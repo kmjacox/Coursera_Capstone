{
    "nbformat_minor": 1, 
    "cells": [
        {
            "source": "##### Download / install packages if needed", 
            "cell_type": "markdown", 
            "metadata": {
                "collapsed": true
            }
        }, 
        {
            "source": "#Uncomment these if needed\n#!conda install -c conda-forge wikipedia --yes\n#!conda install -c conda-forge pandasql --yes", 
            "cell_type": "code", 
            "execution_count": null, 
            "outputs": [], 
            "metadata": {}
        }, 
        {
            "source": "##### Import Packages", 
            "cell_type": "markdown", 
            "metadata": {}
        }, 
        {
            "source": "import pandas as pd\nimport wikipedia as wp\nimport numpy as np\nimport pandasql as pdsql\npysql = lambda q: pdsql.sqldf(q, globals())\n", 
            "cell_type": "code", 
            "execution_count": 1, 
            "outputs": [], 
            "metadata": {}
        }, 
        {
            "source": "##### Read Geo Data Into Dataframe", 
            "cell_type": "markdown", 
            "metadata": {}
        }, 
        {
            "source": "df_geo=pd.read_csv('http://cocl.us/Geospatial_data')", 
            "cell_type": "code", 
            "execution_count": null, 
            "outputs": [], 
            "metadata": {}
        }, 
        {
            "source": "##### Read Postal code / Borough / Neighborhood data into Dataframe (results of previous notebook)", 
            "cell_type": "markdown", 
            "metadata": {}
        }, 
        {
            "source": "#Get the html source\nhtml = wp.page(\"List of postal codes of Canada: M\").html().encode(\"UTF-8\")\ndf = pd.read_html(html)[0]\n# Remove Not assigned values from Borough\npysql = lambda q: pdsql.sqldf(q, globals())\ndf=pysql('select * from df where borough!=\\'Not assigned\\'')\n# Boroughs with Not assigned vale for Neighborhood get the Borough name as Neighborhood\ndf=pysql('select Postcode, Borough, CASE when Neighbourhood=\\'Not assigned\\' then Borough else Neighbourhood END as Neighbourhood from df order by Postcode, Borough')\n# Convert Neighborhoods into a list as opposed to separate records\n# Manipulate data in a numpy array\nx=df.to_numpy()\ny=int(len(df.index))-1\nz=0\nq=z-1\nwhile z<y:\n    while q<=(y-1):\n        if x[z,0]==x[q,0] and x[z,1]==x[q,1] and x[z,2]!=x[q,2]:\n            W=x[q,2] + \",\" + x[z,2]\n            x[z,2]=W\n            x[q,2]=W\n        q=q+1\n        z=z+1\n# Put data back in dataframe\ndf=pd.DataFrame({'Postcode': x[:, 0], 'Borough': x[:, 1], 'Neighbourhood': x[:, 2]})\n#Query insures we get accurate multi-neighborhood records\ndf=pysql('select distinct Postcode, Borough, Neighbourhood from df where length(Neighbourhood)=(select max(length(Neighbourhood)) from df as q where df.Postcode=q.Postcode and df.Borough=q.Borough)')", 
            "cell_type": "code", 
            "execution_count": null, 
            "outputs": [], 
            "metadata": {}
        }, 
        {
            "source": "##### Combine the two dataframes into one dataframe - I'm using pysql to do this", 
            "cell_type": "markdown", 
            "metadata": {}
        }, 
        {
            "source": "df_combined=pysql('select df.Postcode, df.Borough, df.Neighbourhood, df_geo.Latitude, df_geo.Longitude from df INNER JOIN df_geo on df.Postcode=df_geo.\"Postal Code\"')\ndf_combined.head(10)", 
            "cell_type": "code", 
            "execution_count": null, 
            "outputs": [], 
            "metadata": {}
        }, 
        {
            "source": "", 
            "cell_type": "code", 
            "execution_count": null, 
            "outputs": [], 
            "metadata": {}
        }
    ], 
    "nbformat": 4, 
    "metadata": {
        "kernelspec": {
            "display_name": "Python 3.6", 
            "name": "python3", 
            "language": "python"
        }, 
        "language_info": {
            "mimetype": "text/x-python", 
            "nbconvert_exporter": "python", 
            "version": "3.6.8", 
            "name": "python", 
            "pygments_lexer": "ipython3", 
            "file_extension": ".py", 
            "codemirror_mode": {
                "version": 3, 
                "name": "ipython"
            }
        }
    }
}