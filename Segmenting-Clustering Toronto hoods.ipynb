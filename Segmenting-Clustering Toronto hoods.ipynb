{
    "nbformat_minor": 1, 
    "cells": [
        {
            "source": "#### Import / Install packages", 
            "cell_type": "markdown", 
            "metadata": {
                "collapsed": true
            }
        }, 
        {
            "source": "###### Use Conda to install the wikipedia and pandasql packages if needed ", 
            "cell_type": "markdown", 
            "metadata": {}
        }, 
        {
            "source": "#Uncomment these if needed\n!conda install -c conda-forge wikipedia --yes\n!conda install -c conda-forge pandasql --yes", 
            "cell_type": "code", 
            "execution_count": null, 
            "outputs": [
                {
                    "output_type": "stream", 
                    "name": "stdout", 
                    "text": "Solving environment: / "
                }
            ], 
            "metadata": {}
        }, 
        {
            "source": "###### Import the packages we need and set pysql to use global variables ", 
            "cell_type": "markdown", 
            "metadata": {}
        }, 
        {
            "source": "import pandas as pd\nimport wikipedia as wp\nimport numpy as np\nimport pandasql as pdsql\npysql = lambda q: pdsql.sqldf(q, globals())", 
            "cell_type": "code", 
            "execution_count": null, 
            "outputs": [], 
            "metadata": {}
        }, 
        {
            "source": "#### Read Page into Dataframe", 
            "cell_type": "markdown", 
            "metadata": {}
        }, 
        {
            "source": "#Get the html source\nhtml = wp.page(\"List of postal codes of Canada: M\").html().encode(\"UTF-8\")\ndf = pd.read_html(html)[0]", 
            "cell_type": "code", 
            "execution_count": null, 
            "outputs": [], 
            "metadata": {}
        }, 
        {
            "source": "###### Remove cells with a borough that is Not assigned", 
            "cell_type": "markdown", 
            "metadata": {}
        }, 
        {
            "source": "pysql = lambda q: pdsql.sqldf(q, globals())\ndf=pysql('select * from df where borough!=\\'Not assigned\\'')", 
            "cell_type": "code", 
            "execution_count": null, 
            "outputs": [], 
            "metadata": {}
        }, 
        {
            "source": "###### If a cell has a borough but a Not assigned neighborhood, then the neighborhood will be the same as the borough.", 
            "cell_type": "markdown", 
            "metadata": {}
        }, 
        {
            "source": "df=pysql('select Postcode, Borough, CASE when Neighbourhood=\\'Not assigned\\' then Borough else Neighbourhood END as Neighbourhood from df order by Postcode, Borough')\n#df3", 
            "cell_type": "code", 
            "execution_count": null, 
            "outputs": [], 
            "metadata": {}
        }, 
        {
            "source": "###### Combine Postcode / Boroughs with multiple neighborhoods into one row with the neighborhoods separated with a comma", 
            "cell_type": "markdown", 
            "metadata": {}
        }, 
        {
            "source": "# Manipulate data in a numpy array\nx=df.to_numpy()\ny=int(len(df.index))-1\nz=0\nq=z-1\nwhile z<y:\n    while q<=(y-1):\n        if x[z,0]==x[q,0] and x[z,1]==x[q,1] and x[z,2]!=x[q,2]:\n            W=x[q,2] + \",\" + x[z,2]\n            x[z,2]=W\n            x[q,2]=W\n        q=q+1\n        z=z+1\n# Put data back in dataframe\ndf=pd.DataFrame({'Postcode': x[:, 0], 'Borough': x[:, 1], 'Neighbourhood': x[:, 2]})\n#Query insures we get accurate multi-neighborhood records\ndf=pysql('select distinct Postcode, Borough, Neighbourhood from df where length(Neighbourhood)=(select max(length(Neighbourhood)) from df as q where df.Postcode=q.Postcode and df.Borough=q.Borough)')", 
            "cell_type": "code", 
            "execution_count": null, 
            "outputs": [], 
            "metadata": {}
        }, 
        {
            "source": "###### In the last cell of your notebook, use the .shape method to print the number of rows of your dataframe.", 
            "cell_type": "markdown", 
            "metadata": {}
        }, 
        {
            "source": "df.shape", 
            "cell_type": "code", 
            "execution_count": null, 
            "outputs": [], 
            "metadata": {}
        }
    ], 
    "nbformat": 4, 
    "metadata": {
        "kernelspec": {
            "display_name": "Python 3.6", 
            "name": "python3", 
            "language": "python"
        }, 
        "language_info": {
            "mimetype": "text/x-python", 
            "nbconvert_exporter": "python", 
            "version": "3.6.8", 
            "name": "python", 
            "pygments_lexer": "ipython3", 
            "file_extension": ".py", 
            "codemirror_mode": {
                "version": 3, 
                "name": "ipython"
            }
        }
    }
}